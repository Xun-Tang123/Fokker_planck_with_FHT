{
 "cells": [
  {
   "cell_type": "code",
   "execution_count": 1,
   "id": "295a1411",
   "metadata": {
    "scrolled": false
   },
   "outputs": [
    {
     "name": "stdout",
     "output_type": "stream",
     "text": [
      "Saved data at iteration 0, total violation is 0\n",
      "Saved data at iteration 1, total violation is 0\n",
      "Saved data at iteration 2, total violation is 0\n",
      "Saved data at iteration 3, total violation is 0\n",
      "Saved data at iteration 4, total violation is 0\n",
      "Saved data at iteration 5, total violation is 0\n",
      "Saved data at iteration 6, total violation is 0\n",
      "Saved data at iteration 7, total violation is 0\n",
      "Saved data at iteration 8, total violation is 0\n",
      "Saved data at iteration 9, total violation is 0\n",
      "Saved data at iteration 10, total violation is 0\n",
      "Saved data at iteration 11, total violation is 0\n",
      "Saved data at iteration 12, total violation is 0\n",
      "Saved data at iteration 13, total violation is 0\n",
      "Saved data at iteration 14, total violation is 0\n",
      "Saved data at iteration 15, total violation is 0\n",
      "Saved data at iteration 16, total violation is 0\n",
      "Saved data at iteration 17, total violation is 0\n",
      "Saved data at iteration 18, total violation is 0\n",
      "Saved data at iteration 19, total violation is 0\n",
      "Saved data at iteration 20, total violation is 0\n",
      "Saved data at iteration 21, total violation is 0\n",
      "Saved data at iteration 22, total violation is 0\n",
      "Saved data at iteration 23, total violation is 0\n",
      "Saved data at iteration 24, total violation is 0\n",
      "Saved data at iteration 25, total violation is 0\n",
      "Saved data at iteration 26, total violation is 0\n",
      "Saved data at iteration 27, total violation is 0\n",
      "Saved data at iteration 28, total violation is 0\n",
      "Saved data at iteration 29, total violation is 0\n",
      "Saved data at iteration 30, total violation is 0\n",
      "Saved data at iteration 31, total violation is 0\n",
      "Saved data at iteration 32, total violation is 0\n",
      "Saved data at iteration 33, total violation is 0\n",
      "Saved data at iteration 34, total violation is 0\n",
      "Saved data at iteration 35, total violation is 0\n",
      "Saved data at iteration 36, total violation is 0\n",
      "Saved data at iteration 37, total violation is 0\n",
      "Saved data at iteration 38, total violation is 0\n",
      "Saved data at iteration 39, total violation is 0\n",
      "Saved data at iteration 40, total violation is 0\n",
      "Saved data at iteration 41, total violation is 0\n",
      "Saved data at iteration 42, total violation is 0\n",
      "Saved data at iteration 43, total violation is 0\n",
      "Saved data at iteration 44, total violation is 0\n",
      "Saved data at iteration 45, total violation is 0\n",
      "Saved data at iteration 46, total violation is 0\n",
      "Saved data at iteration 47, total violation is 0\n",
      "Saved data at iteration 48, total violation is 0\n",
      "Saved data at iteration 49, total violation is 0\n",
      "Saved data at iteration 50, total violation is 0\n",
      "Saved data at iteration 51, total violation is 0\n",
      "Saved data at iteration 52, total violation is 0\n",
      "Saved data at iteration 53, total violation is 0\n",
      "Saved data at iteration 54, total violation is 0\n",
      "Saved data at iteration 55, total violation is 0\n",
      "Saved data at iteration 56, total violation is 0\n",
      "Saved data at iteration 57, total violation is 0\n",
      "Saved data at iteration 58, total violation is 0\n",
      "Saved data at iteration 59, total violation is 0\n"
     ]
    },
    {
     "data": {
      "image/png": "[encoded data removed]",
      "text/plain": [
       "<Figure size 432x288 with 1 Axes>"
      ]
     },
     "metadata": {
      "needs_background": "light"
     },
     "output_type": "display_data"
    }
   ],
   "source": [
    "import numpy as np\n",
    "import os\n",
    "import matplotlib.pyplot as plt\n",
    "\n",
    "# Given constants\n",
    "n = 8\n",
    "d = n**3\n",
    "h = 1 / (n + 1)\n",
    "λ = 0.01\n",
    "β = 1 / 10\n",
    "dt = 0.002\n",
    "N = int(1/dt)  # Interested in T = 1\n",
    "dt = 1/N  # Correct for small deviation\n",
    "\n",
    "BATCH_SIZE = 100  # Set your desired batch size\n",
    "\n",
    "data_path = f\"./Saved_Data/3D_GZ_data_d_{d}.npz\"\n",
    "\n",
    "# Hyperparameters\n",
    "hyperparameters = {\n",
    "    \"d\": d,\n",
    "    \"h\": h,\n",
    "    \"λ\": λ,\n",
    "    \"β\": β,\n",
    "    \"dt\": dt,\n",
    "    \"N\": N,\n",
    "    \"BATCH_SIZE\": BATCH_SIZE\n",
    "}\n",
    "\n",
    "# Create directory if it doesn't exist\n",
    "if not os.path.exists(\"./Saved_Data\"):\n",
    "    os.makedirs(\"./Saved_Data\")\n",
    "\n",
    "# Load existing data or initialize\n",
    "if os.path.exists(data_path):\n",
    "    with np.load(data_path) as data:\n",
    "        all_samples = data['samples']\n",
    "else:\n",
    "    all_samples = np.empty((0, n + 2, n + 2, n + 2))\n",
    "\n",
    "def V_grad_periodic(U):\n",
    "    \"\"\"\n",
    "    Compute the gradient of the potential energy V for a periodic domain.\n",
    "    \n",
    "    Args:\n",
    "    - U (np.ndarray): Input tensor for which the gradient is computed.\n",
    "    \n",
    "    Returns:\n",
    "    - np.ndarray: Gradient of the potential energy V.\n",
    "    \"\"\"\n",
    "    return (λ / h**2) * (\n",
    "        6*U - np.roll(U, 1, axis=1) - np.roll(U, -1, axis=1) \n",
    "        - np.roll(U, -1, axis=2) - np.roll(U, 1, axis=2)\n",
    "        - np.roll(U, -1, axis=3) - np.roll(U, 1, axis=3)\n",
    "    ) - np.pi*np.sin(np.pi*U) / (4*λ)\n",
    "\n",
    "def V_grad(U):\n",
    "    \"\"\"\n",
    "    Compute the gradient of the potential energy V for a periodic domain.\n",
    "    \n",
    "    Args:\n",
    "    - U (np.ndarray): Input tensor for which the gradient is computed.\n",
    "    \n",
    "    Returns:\n",
    "    - np.ndarray: Gradient of the potential energy V.\n",
    "    \"\"\"\n",
    "    return (λ / h**2) * (\n",
    "        6*U - np.roll(U, 1, axis=1) - np.roll(U, -1, axis=1) \n",
    "        - np.roll(U, -1, axis=2) - np.roll(U, 1, axis=2)\n",
    "        - np.roll(U, -1, axis=3) - np.roll(U, 1, axis=3)\n",
    "    ) - U * (1 - U**2) /λ\n",
    "\n",
    "count = 0\n",
    "\n",
    "\n",
    "for iteration in range(60):\n",
    "\n",
    "    U = np.zeros((BATCH_SIZE, n + 2, n + 2, n + 2))  # Initialize at each iteration\n",
    "\n",
    "    # Creating samples for 1D Ginzburg Landau\n",
    "    for _ in range(N):\n",
    "        dW = np.sqrt(dt) * np.random.randn(BATCH_SIZE, n + 2, n + 2, n + 2)\n",
    "        U[:, 1:-1, 1:-1, 1:-1] += (-V_grad(U)[:, 1:-1, 1:-1, 1:-1] * dt + np.sqrt(2/β) * dW[:, 1:-1, 1:-1, 1:-1])\n",
    "        count += np.sum(U > 2.5) + np.sum(U <-2.5)\n",
    "        U[U > 2.5] = 2.5\n",
    "        U[U < -2.5] = -2.5\n",
    "    all_samples = np.concatenate((all_samples, U), axis=0)\n",
    "    print(f'Saved data at iteration {iteration}, total violation is {count}')\n",
    "\n",
    "    # Save the accumulated data\n",
    "    np.savez(data_path, samples=all_samples, hyperparameters=hyperparameters)\n",
    "\n",
    "# Visualization of the 8-th marginal distribution\n",
    "eighth_samples = all_samples[:, 4, 4, 4]  # Extract the 4-th bit from each sample\n",
    "plt.hist(eighth_samples, bins=50, density=True)\n",
    "plt.title(\"(4,4,4)-th Marginal Distribution\")\n",
    "plt.show()\n"
   ]
  },
  {
   "cell_type": "code",
   "execution_count": 17,
   "id": "88971cdb",
   "metadata": {},
   "outputs": [
    {
     "data": {
      "text/plain": [
       "<matplotlib.image.AxesImage at 0x1169bbb20>"
      ]
     },
     "execution_count": 17,
     "metadata": {},
     "output_type": "execute_result"
    },
    {
     "data": {
      "image/png": "[encoded data removed]",
      "text/plain": [
       "<Figure size 432x288 with 1 Axes>"
      ]
     },
     "metadata": {
      "needs_background": "light"
     },
     "output_type": "display_data"
    }
   ],
   "source": [
    "# Calculate two-point correlation\n",
    "from copy import deepcopy\n",
    "\n",
    "def int_to_bin(val, length):\n",
    "    \"\"\"Convert integer to binary representation with fixed length.\"\"\"\n",
    "    return format(val, f'0{length}b')\n",
    "\n",
    "def interlace_3d(i, j, k, l):\n",
    "    \"\"\"Interlace the binary representations of i and j up to length l.\"\"\"\n",
    "    i_bin = int_to_bin(i, l)\n",
    "    j_bin = int_to_bin(j, l)\n",
    "    k_bin = int_to_bin(k, l)\n",
    "    interlaced = ''.join([a + b + c for a, b, c in zip(i_bin, j_bin, k_bin)])\n",
    "    return int(interlaced, 2)\n",
    "\n",
    "def two_pt_correlation(sample, dim):\n",
    "    r'''\n",
    "    Calculate the two pt correlation between target_dimension and every other dimension in the data\n",
    "    '''\n",
    "    data_dim = deepcopy(sample[:, dim].reshape(-1, 1))\n",
    "    data_all = deepcopy(sample)\n",
    "    data_dim = data_dim - np.mean(data_dim, axis = 0, keepdims = True)\n",
    "    data_all = data_all - np.mean(data_all, axis = 0, keepdims = True)\n",
    "    std_all = np.sqrt(np.mean(np.power(data_all, 2), axis = 0))\n",
    "    std_dim = std_all[dim]\n",
    "    correlation = 1/data_all.shape[0]*data_all.T@data_dim/(np.outer(std_all, std_dim))\n",
    "\n",
    "    return correlation\n",
    "y_3d = all_samples[:, 1:-1, 1:-1, 1:-1]/2.5\n",
    "col1 = interlace_3d(int(n/2) - 1, int(n/2) - 1, int(n/2) - 1, 3)\n",
    "true_correlation = np.zeros([n,n,n])\n",
    "true_correlation_interlaced = two_pt_correlation(y_3d.reshape(y_3d.shape[0], -1), dim=col1)\n",
    "for i in range(n):\n",
    "    for j in range(n):\n",
    "        for k in range(n):\n",
    "            true_correlation[i, j, k] = true_correlation_interlaced[interlace_3d(i, j, k, l = 3)]\n",
    "\n",
    "plt.imshow(true_correlation.reshape(16, -1), aspect='auto', cmap='viridis')"
   ]
  },
  {
   "cell_type": "code",
   "execution_count": 10,
   "id": "32ebcbea",
   "metadata": {},
   "outputs": [
    {
     "data": {
      "text/plain": [
       "(1000, 10, 10, 10)"
      ]
     },
     "execution_count": 10,
     "metadata": {},
     "output_type": "execute_result"
    }
   ],
   "source": [
    "all_samples.shape"
   ]
  },
  {
   "cell_type": "code",
   "execution_count": 38,
   "id": "6130e43e",
   "metadata": {},
   "outputs": [
    {
     "data": {
      "text/plain": [
       "<matplotlib.collections.PathCollection at 0x1093613d0>"
      ]
     },
     "execution_count": 38,
     "metadata": {},
     "output_type": "execute_result"
    },
    {
     "data": {
      "image/png": "[encoded data removed]",
      "text/plain": [
       "<Figure size 432x288 with 1 Axes>"
      ]
     },
     "metadata": {
      "needs_background": "light"
     },
     "output_type": "display_data"
    }
   ],
   "source": [
    "plt.scatter(all_samples[:, 4, 4, 4], all_samples[:, 4, 6, 4])"
   ]
  },
  {
   "cell_type": "code",
   "execution_count": null,
   "id": "8a230e3c",
   "metadata": {},
   "outputs": [],
   "source": []
  }
 ],
 "metadata": {
  "kernelspec": {
   "display_name": "Python 3 (ipykernel)",
   "language": "python",
   "name": "python3"
  },
  "language_info": {
   "codemirror_mode": {
    "name": "ipython",
    "version": 3
   },
   "file_extension": ".py",
   "mimetype": "text/x-python",
   "name": "python",
   "nbconvert_exporter": "python",
   "pygments_lexer": "ipython3",
   "version": "3.9.7"
  }
 },
 "nbformat": 4,
 "nbformat_minor": 5
}
