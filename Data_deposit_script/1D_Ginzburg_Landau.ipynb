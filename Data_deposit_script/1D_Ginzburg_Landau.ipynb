{
 "cells": [
  {
   "cell_type": "markdown",
   "id": "4ce67f9f",
   "metadata": {},
   "source": [
    "# Generate sample from 1D GZ with Euler-Maruyama"
   ]
  },
  {
   "cell_type": "code",
   "execution_count": null,
   "id": "8283a253",
   "metadata": {
    "scrolled": false
   },
   "outputs": [
    {
     "name": "stdout",
     "output_type": "stream",
     "text": [
      "Saved data at iteration 0, total violation is 0\n",
      "Saved data at iteration 1, total violation is 0\n",
      "Saved data at iteration 2, total violation is 0\n",
      "Saved data at iteration 3, total violation is 0\n",
      "Saved data at iteration 4, total violation is 0\n",
      "Saved data at iteration 5, total violation is 0\n",
      "Saved data at iteration 6, total violation is 0\n",
      "Saved data at iteration 7, total violation is 0\n",
      "Saved data at iteration 8, total violation is 0\n",
      "Saved data at iteration 9, total violation is 0\n",
      "Saved data at iteration 10, total violation is 0\n"
     ]
    }
   ],
   "source": [
    "import numpy as np\n",
    "import os\n",
    "import matplotlib.pyplot as plt\n",
    "\n",
    "# Given constants\n",
    "d = 256\n",
    "h = 1 / (d + 1)\n",
    "λ = 0.01\n",
    "β = 1 / 8\n",
    "dt = 0.0005\n",
    "# dt = 0.01\n",
    "N = int(1/dt)  # Interested in T = 1\n",
    "dt = 1/N  # Correct for small deviation\n",
    "\n",
    "BATCH_SIZE = 100  # Set your desired batch size\n",
    "\n",
    "data_path = f\"./Saved_Data/1D_GZ_data_d_{d}.npz\"\n",
    "\n",
    "# Hyperparameters\n",
    "hyperparameters = {\n",
    "    \"d\": d,\n",
    "    \"h\": h,\n",
    "    \"λ\": λ,\n",
    "    \"β\": β,\n",
    "    \"dt\": dt,\n",
    "    \"N\": N,\n",
    "    \"BATCH_SIZE\": BATCH_SIZE\n",
    "}\n",
    "\n",
    "# Create directory if it doesn't exist\n",
    "if not os.path.exists(\"./Saved_Data\"):\n",
    "    os.makedirs(\"./Saved_Data\")\n",
    "\n",
    "# Load existing data or initialize\n",
    "if os.path.exists(data_path):\n",
    "    with np.load(data_path) as data:\n",
    "        all_samples = data['samples']\n",
    "else:\n",
    "    all_samples = np.empty((0, d + 2))\n",
    "\n",
    "def V_grad(U):\n",
    "    # Gradient of the potential energy V\n",
    "    return λ/h**2 * (2*U - np.roll(U, 1, axis = 1) - np.roll(U, -1, axis = 1)) - U * (1 - U**2) /λ\n",
    "\n",
    "count = 0\n",
    "\n",
    "for iteration in range(60):\n",
    "\n",
    "    U = np.zeros((BATCH_SIZE, d + 2))  # Initialize at each iteration\n",
    "\n",
    "    # Creating samples for 1D Ginzburg Landau\n",
    "    for _ in range(N):\n",
    "        dW = np.sqrt(dt) * np.random.randn(BATCH_SIZE, d + 2)\n",
    "        U[:, 1:-1] += (-V_grad(U)[:, 1:-1] * dt + np.sqrt(2/β) * dW[:, 1:-1])\n",
    "        count += np.sum(U > 2.5) + np.sum(U <-2.5)\n",
    "        U[U > 2.5] = 2.5\n",
    "        U[U < -2.5] = -2.5\n",
    "\n",
    "    all_samples = np.concatenate((all_samples, U), axis=0)\n",
    "    print(f'Saved data at iteration {iteration}, total violation is {count}')\n",
    "\n",
    "    # Save the accumulated data\n",
    "    np.savez(data_path, samples=all_samples, hyperparameters=hyperparameters)\n",
    "print(f'total number of violation is {count}')\n",
    "# Visualization of the 8-th marginal distribution\n",
    "eighth_samples = all_samples[:, 8]  # Extract the 8-th bit from each sample\n",
    "plt.hist(eighth_samples, bins=50, density=True)\n",
    "plt.title(\"8-th Marginal Distribution\")\n",
    "plt.show()\n"
   ]
  },
  {
   "cell_type": "code",
   "execution_count": null,
   "id": "27c0d115",
   "metadata": {},
   "outputs": [],
   "source": []
  }
 ],
 "metadata": {
  "kernelspec": {
   "display_name": "Python 3 (ipykernel)",
   "language": "python",
   "name": "python3"
  },
  "language_info": {
   "codemirror_mode": {
    "name": "ipython",
    "version": 3
   },
   "file_extension": ".py",
   "mimetype": "text/x-python",
   "name": "python",
   "nbconvert_exporter": "python",
   "pygments_lexer": "ipython3",
   "version": "3.9.7"
  }
 },
 "nbformat": 4,
 "nbformat_minor": 5
}
